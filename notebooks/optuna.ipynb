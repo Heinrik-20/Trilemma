{
 "cells": [
  {
   "cell_type": "code",
   "execution_count": 1,
   "metadata": {},
   "outputs": [
    {
     "name": "stderr",
     "output_type": "stream",
     "text": [
      "/opt/homebrew/Caskroom/miniconda/base/envs/quant/lib/python3.10/site-packages/tqdm/auto.py:21: TqdmWarning: IProgress not found. Please update jupyter and ipywidgets. See https://ipywidgets.readthedocs.io/en/stable/user_install.html\n",
      "  from .autonotebook import tqdm as notebook_tqdm\n"
     ]
    }
   ],
   "source": [
    "## Workflow\n",
    "## We can first run to get the important parameters first, and then look to optimise only those specific ones\n",
    "\n",
    "import optuna\n",
    "import pandas as pd\n",
    "import numpy as np\n",
    "import sys, os\n",
    "import matplotlib.pyplot as plt\n",
    "import logging\n",
    "\n",
    "sys.path.append(os.getcwd() + \"/../src/\")\n",
    "\n",
    "from utils import create_dataset\n",
    "from sklearn.ensemble import RandomForestRegressor, AdaBoostRegressor\n",
    "from lightgbm.sklearn import LGBMRegressor\n",
    "from sklearn.ensemble import VotingRegressor\n",
    "from sklearn.svm import SVR\n",
    "from sklearn.preprocessing import SplineTransformer, PowerTransformer\n",
    "from sklearn.metrics import mean_absolute_error\n",
    "\n",
    "from sklearn.pipeline import Pipeline\n",
    "\n",
    "btc = create_dataset()\n",
    "btc = btc.reset_index(drop=True)\n",
    "\n",
    "X_pred = btc.iloc[-1].drop(['Date', 'target'])\n",
    "btc = btc.dropna()\n",
    "\n",
    "X, y = btc.drop(columns=['target', 'Date']).astype(np.float64), btc['target'].astype(np.float64)\n",
    "\n",
    "SEED = 2052\n",
    "np.random.seed(SEED)\n",
    "TS_SPLITS = 10"
   ]
  },
  {
   "cell_type": "code",
   "execution_count": 2,
   "metadata": {},
   "outputs": [],
   "source": [
    "n_samples = len(X)\n",
    "\n",
    "def objective(trial):\n",
    "\n",
    "    def suggest_params(trial):\n",
    "\n",
    "        return {\n",
    "            'spline': {\n",
    "                'n_knots': trial.suggest_int('n_knots', 5, 20),\n",
    "                'degree': trial.suggest_int('degree', 2, 5)\n",
    "            },\n",
    "\n",
    "            'svm': {\n",
    "                'kernel': trial.suggest_categorical('svm__kernel', ['rbf', 'sigmoid']),\n",
    "                'gamma': trial.suggest_float('svm__gamma', 1e-5, 1),\n",
    "                'C': trial.suggest_float('svm__C', 1e-5, 1e4),\n",
    "                'epsilon': trial.suggest_float('svm__epsilon', 1e-5, 1e4),\n",
    "                'max_iter': 10000,\n",
    "            },\n",
    "\n",
    "            'rf': {\n",
    "                'n_estimators': trial.suggest_int('rf__n_estimators', 50, 450),\n",
    "                'max_depth': trial.suggest_int('rf__max_depth', 4, 16),\n",
    "                'min_samples_split': trial.suggest_int('rf__min_samples_split', 2, 15),\n",
    "                'min_samples_leaf': trial.suggest_int('rf__min_samples_lead', 2, 15),\n",
    "                'max_features': trial.suggest_categorical('rf__max_features', ['sqrt', 'log2', 1.0]),\n",
    "                'min_impurity_decrease': trial.suggest_float('rf__min_impurity_decrease', 1e-3, 1),\n",
    "                'ccp_alpha': trial.suggest_float('rf__ccp_alpha', 1e-3, 1e2),\n",
    "                'random_state': SEED\n",
    "            },\n",
    "\n",
    "            'ada': {\n",
    "                'n_estimators': trial.suggest_int('ada__n_estimators', 50, 350),\n",
    "                'learning_rate': trial.suggest_float('ada__learning_rate', 1e-5, 1e3),\n",
    "                'loss': trial.suggest_categorical('ada__loss', ['linear', 'square', 'exponential']),\n",
    "                'random_state': SEED\n",
    "\n",
    "            },\n",
    "\n",
    "            'lgbm': {\n",
    "                'n_estimators': trial.suggest_int('lgbm__n_estimators', 500, 3000),\n",
    "                'max_depth': trial.suggest_int('lgbm__max_depth', 4, 16),\n",
    "                'min_child_weight': trial.suggest_int('lgbm__min_child_weight', 1, 6),\n",
    "                'learning_rate': trial.suggest_float('lgbm__learning_rate', 1e-5, 1),\n",
    "                'reg_alpha': trial.suggest_float('lgbm__reg_alpha', 1e-5, 1e2),\n",
    "                'reg_lambda': trial.suggest_float('lgbm__reg_lambda', 1e-5, 1e2),\n",
    "                'verbosity': -1,\n",
    "                'random_state': SEED\n",
    "            }\n",
    "        }\n",
    "\n",
    "    scores = []\n",
    "    for index in range(TS_SPLITS):\n",
    "\n",
    "        ## Time series split\n",
    "        train_size = n_samples - (TS_SPLITS - index)\n",
    "        X_train = X.values[:train_size + 1]\n",
    "        y_train = y.values[:train_size + 1]\n",
    "\n",
    "        X_val = X.values[train_size].reshape(1, -1)\n",
    "        y_val = y.values[train_size]\n",
    "\n",
    "        ## Suggesting parameters\n",
    "        params = suggest_params(trial=trial)\n",
    "        spline, svm, rf, ada, lgbm = params['spline'], params['svm'], params['rf'], params['ada'], params['lgbm']\n",
    "\n",
    "        ## Construction of model\n",
    "        ensemble = VotingRegressor(\n",
    "            estimators=[\n",
    "                ('svm', SVR(**svm)),\n",
    "                ('rf', RandomForestRegressor(**rf)),\n",
    "                ('ada', AdaBoostRegressor(**ada)),\n",
    "                ('lgbm', LGBMRegressor(**lgbm))\n",
    "            ]\n",
    "        )\n",
    "\n",
    "        pipeline = Pipeline(\n",
    "            [\n",
    "                ('power-transformer', PowerTransformer()),\n",
    "                ('spline', SplineTransformer(**spline)),\n",
    "                ('ensemble', ensemble)\n",
    "            ]\n",
    "        )\n",
    "\n",
    "        # Fit model\n",
    "        pipeline.fit(X=X_train, y=y_train)\n",
    "        y_pred = pipeline.predict(X=X_val)\n",
    "\n",
    "        # Scoring\n",
    "        score = np.abs(y_pred - y_val)\n",
    "        scores.append(score)\n",
    "        trial.report(np.mean(scores), index)\n",
    "\n",
    "        if trial.should_prune():\n",
    "            raise optuna.TrialPruned()\n",
    "\n",
    "    return np.mean(scores)"
   ]
  },
  {
   "cell_type": "code",
   "execution_count": 3,
   "metadata": {},
   "outputs": [
    {
     "name": "stderr",
     "output_type": "stream",
     "text": [
      "[I 2024-07-13 16:23:22,763] A new study created in memory with name: Ensemble Optimisation\n"
     ]
    },
    {
     "name": "stdout",
     "output_type": "stream",
     "text": [
      "A new study created in memory with name: Ensemble Optimisation\n"
     ]
    },
    {
     "name": "stderr",
     "output_type": "stream",
     "text": [
      "[I 2024-07-13 16:23:34,307] Trial 0 finished with value: 10.672126263180104 and parameters: {'n_knots': 18, 'degree': 5, 'svm__kernel': 'rbf', 'svm__gamma': 0.8248131460549702, 'svm__C': 5703.832601832904, 'svm__epsilon': 7323.595071941993, 'rf__n_estimators': 102, 'rf__max_depth': 15, 'rf__min_samples_split': 3, 'rf__min_samples_lead': 2, 'rf__max_features': 'log2', 'rf__min_impurity_decrease': 0.5352215428489109, 'rf__ccp_alpha': 24.947646765018845, 'ada__n_estimators': 58, 'ada__learning_rate': 772.1869696986244, 'ada__loss': 'square', 'lgbm__n_estimators': 1930, 'lgbm__max_depth': 7, 'lgbm__min_child_weight': 1, 'lgbm__learning_rate': 0.47140119553830134, 'lgbm__reg_alpha': 12.314997391673566, 'lgbm__reg_lambda': 89.20635522654716}. Best is trial 0 with value: 10.672126263180104.\n"
     ]
    },
    {
     "name": "stdout",
     "output_type": "stream",
     "text": [
      "Trial 0 finished with value: 10.672126263180104 and parameters: {'n_knots': 18, 'degree': 5, 'svm__kernel': 'rbf', 'svm__gamma': 0.8248131460549702, 'svm__C': 5703.832601832904, 'svm__epsilon': 7323.595071941993, 'rf__n_estimators': 102, 'rf__max_depth': 15, 'rf__min_samples_split': 3, 'rf__min_samples_lead': 2, 'rf__max_features': 'log2', 'rf__min_impurity_decrease': 0.5352215428489109, 'rf__ccp_alpha': 24.947646765018845, 'ada__n_estimators': 58, 'ada__learning_rate': 772.1869696986244, 'ada__loss': 'square', 'lgbm__n_estimators': 1930, 'lgbm__max_depth': 7, 'lgbm__min_child_weight': 1, 'lgbm__learning_rate': 0.47140119553830134, 'lgbm__reg_alpha': 12.314997391673566, 'lgbm__reg_lambda': 89.20635522654716}. Best is trial 0 with value: 10.672126263180104.\n"
     ]
    },
    {
     "name": "stderr",
     "output_type": "stream",
     "text": [
      "[I 2024-07-13 16:23:42,375] Trial 1 finished with value: 13.388204643584618 and parameters: {'n_knots': 9, 'degree': 3, 'svm__kernel': 'rbf', 'svm__gamma': 0.22105604442554946, 'svm__C': 4051.6170243029237, 'svm__epsilon': 5147.022016374605, 'rf__n_estimators': 186, 'rf__max_depth': 16, 'rf__min_samples_split': 5, 'rf__min_samples_lead': 4, 'rf__max_features': 'sqrt', 'rf__min_impurity_decrease': 0.8939631727403385, 'rf__ccp_alpha': 99.75273828711435, 'ada__n_estimators': 60, 'ada__learning_rate': 911.3968680968782, 'ada__loss': 'square', 'lgbm__n_estimators': 2999, 'lgbm__max_depth': 16, 'lgbm__min_child_weight': 4, 'lgbm__learning_rate': 0.8836221187482044, 'lgbm__reg_alpha': 40.04743529553038, 'lgbm__reg_lambda': 22.553064119775087}. Best is trial 0 with value: 10.672126263180104.\n"
     ]
    },
    {
     "name": "stdout",
     "output_type": "stream",
     "text": [
      "Trial 1 finished with value: 13.388204643584618 and parameters: {'n_knots': 9, 'degree': 3, 'svm__kernel': 'rbf', 'svm__gamma': 0.22105604442554946, 'svm__C': 4051.6170243029237, 'svm__epsilon': 5147.022016374605, 'rf__n_estimators': 186, 'rf__max_depth': 16, 'rf__min_samples_split': 5, 'rf__min_samples_lead': 4, 'rf__max_features': 'sqrt', 'rf__min_impurity_decrease': 0.8939631727403385, 'rf__ccp_alpha': 99.75273828711435, 'ada__n_estimators': 60, 'ada__learning_rate': 911.3968680968782, 'ada__loss': 'square', 'lgbm__n_estimators': 2999, 'lgbm__max_depth': 16, 'lgbm__min_child_weight': 4, 'lgbm__learning_rate': 0.8836221187482044, 'lgbm__reg_alpha': 40.04743529553038, 'lgbm__reg_lambda': 22.553064119775087}. Best is trial 0 with value: 10.672126263180104.\n"
     ]
    },
    {
     "name": "stderr",
     "output_type": "stream",
     "text": [
      "[I 2024-07-13 16:23:51,123] Trial 2 finished with value: 7.246637418278513 and parameters: {'n_knots': 11, 'degree': 5, 'svm__kernel': 'rbf', 'svm__gamma': 0.07288156647545967, 'svm__C': 2053.6808544166006, 'svm__epsilon': 8823.026572428462, 'rf__n_estimators': 239, 'rf__max_depth': 8, 'rf__min_samples_split': 4, 'rf__min_samples_lead': 4, 'rf__max_features': 'sqrt', 'rf__min_impurity_decrease': 0.844796400797656, 'rf__ccp_alpha': 77.29323670325599, 'ada__n_estimators': 289, 'ada__learning_rate': 370.23123598706485, 'ada__loss': 'linear', 'lgbm__n_estimators': 962, 'lgbm__max_depth': 7, 'lgbm__min_child_weight': 3, 'lgbm__learning_rate': 0.5986711551178933, 'lgbm__reg_alpha': 74.56474838929846, 'lgbm__reg_lambda': 90.87481874671016}. Best is trial 2 with value: 7.246637418278513.\n"
     ]
    },
    {
     "name": "stdout",
     "output_type": "stream",
     "text": [
      "Trial 2 finished with value: 7.246637418278513 and parameters: {'n_knots': 11, 'degree': 5, 'svm__kernel': 'rbf', 'svm__gamma': 0.07288156647545967, 'svm__C': 2053.6808544166006, 'svm__epsilon': 8823.026572428462, 'rf__n_estimators': 239, 'rf__max_depth': 8, 'rf__min_samples_split': 4, 'rf__min_samples_lead': 4, 'rf__max_features': 'sqrt', 'rf__min_impurity_decrease': 0.844796400797656, 'rf__ccp_alpha': 77.29323670325599, 'ada__n_estimators': 289, 'ada__learning_rate': 370.23123598706485, 'ada__loss': 'linear', 'lgbm__n_estimators': 962, 'lgbm__max_depth': 7, 'lgbm__min_child_weight': 3, 'lgbm__learning_rate': 0.5986711551178933, 'lgbm__reg_alpha': 74.56474838929846, 'lgbm__reg_lambda': 90.87481874671016}. Best is trial 2 with value: 7.246637418278513.\n"
     ]
    },
    {
     "name": "stderr",
     "output_type": "stream",
     "text": [
      "[I 2024-07-13 16:24:01,416] Trial 3 finished with value: 5.359505551590854 and parameters: {'n_knots': 18, 'degree': 5, 'svm__kernel': 'sigmoid', 'svm__gamma': 0.9957981636569726, 'svm__C': 9870.011594535108, 'svm__epsilon': 5197.280771629869, 'rf__n_estimators': 416, 'rf__max_depth': 12, 'rf__min_samples_split': 10, 'rf__min_samples_lead': 7, 'rf__max_features': 'sqrt', 'rf__min_impurity_decrease': 0.872662051401799, 'rf__ccp_alpha': 51.71170468544542, 'ada__n_estimators': 249, 'ada__learning_rate': 341.54109351633184, 'ada__loss': 'linear', 'lgbm__n_estimators': 963, 'lgbm__max_depth': 13, 'lgbm__min_child_weight': 6, 'lgbm__learning_rate': 0.6035756136220481, 'lgbm__reg_alpha': 49.206650526786525, 'lgbm__reg_lambda': 3.046962307327141}. Best is trial 3 with value: 5.359505551590854.\n"
     ]
    },
    {
     "name": "stdout",
     "output_type": "stream",
     "text": [
      "Trial 3 finished with value: 5.359505551590854 and parameters: {'n_knots': 18, 'degree': 5, 'svm__kernel': 'sigmoid', 'svm__gamma': 0.9957981636569726, 'svm__C': 9870.011594535108, 'svm__epsilon': 5197.280771629869, 'rf__n_estimators': 416, 'rf__max_depth': 12, 'rf__min_samples_split': 10, 'rf__min_samples_lead': 7, 'rf__max_features': 'sqrt', 'rf__min_impurity_decrease': 0.872662051401799, 'rf__ccp_alpha': 51.71170468544542, 'ada__n_estimators': 249, 'ada__learning_rate': 341.54109351633184, 'ada__loss': 'linear', 'lgbm__n_estimators': 963, 'lgbm__max_depth': 13, 'lgbm__min_child_weight': 6, 'lgbm__learning_rate': 0.6035756136220481, 'lgbm__reg_alpha': 49.206650526786525, 'lgbm__reg_lambda': 3.046962307327141}. Best is trial 3 with value: 5.359505551590854.\n"
     ]
    },
    {
     "name": "stderr",
     "output_type": "stream",
     "text": [
      "[I 2024-07-13 16:24:18,126] Trial 4 finished with value: 7.63606653681034 and parameters: {'n_knots': 17, 'degree': 4, 'svm__kernel': 'rbf', 'svm__gamma': 0.5574602601902808, 'svm__C': 1736.066525415641, 'svm__epsilon': 4851.958474213238, 'rf__n_estimators': 272, 'rf__max_depth': 16, 'rf__min_samples_split': 15, 'rf__min_samples_lead': 10, 'rf__max_features': 'log2', 'rf__min_impurity_decrease': 0.24848689713903432, 'rf__ccp_alpha': 86.76270192596559, 'ada__n_estimators': 264, 'ada__learning_rate': 872.1601189722477, 'ada__loss': 'square', 'lgbm__n_estimators': 2176, 'lgbm__max_depth': 13, 'lgbm__min_child_weight': 5, 'lgbm__learning_rate': 0.08630800568243575, 'lgbm__reg_alpha': 31.60190511532843, 'lgbm__reg_lambda': 71.06670533551456}. Best is trial 3 with value: 5.359505551590854.\n"
     ]
    },
    {
     "name": "stdout",
     "output_type": "stream",
     "text": [
      "Trial 4 finished with value: 7.63606653681034 and parameters: {'n_knots': 17, 'degree': 4, 'svm__kernel': 'rbf', 'svm__gamma': 0.5574602601902808, 'svm__C': 1736.066525415641, 'svm__epsilon': 4851.958474213238, 'rf__n_estimators': 272, 'rf__max_depth': 16, 'rf__min_samples_split': 15, 'rf__min_samples_lead': 10, 'rf__max_features': 'log2', 'rf__min_impurity_decrease': 0.24848689713903432, 'rf__ccp_alpha': 86.76270192596559, 'ada__n_estimators': 264, 'ada__learning_rate': 872.1601189722477, 'ada__loss': 'square', 'lgbm__n_estimators': 2176, 'lgbm__max_depth': 13, 'lgbm__min_child_weight': 5, 'lgbm__learning_rate': 0.08630800568243575, 'lgbm__reg_alpha': 31.60190511532843, 'lgbm__reg_lambda': 71.06670533551456}. Best is trial 3 with value: 5.359505551590854.\n"
     ]
    }
   ],
   "source": [
    "optuna.logging.get_logger(\"optuna\").addHandler(logging.StreamHandler(sys.stdout))\n",
    "study = optuna.create_study(study_name='Ensemble Optimisation', pruner=optuna.pruners.MedianPruner())\n",
    "study.optimize(objective, n_trials=5)"
   ]
  }
 ],
 "metadata": {
  "kernelspec": {
   "display_name": "quant",
   "language": "python",
   "name": "python3"
  },
  "language_info": {
   "codemirror_mode": {
    "name": "ipython",
    "version": 3
   },
   "file_extension": ".py",
   "mimetype": "text/x-python",
   "name": "python",
   "nbconvert_exporter": "python",
   "pygments_lexer": "ipython3",
   "version": "3.10.9"
  }
 },
 "nbformat": 4,
 "nbformat_minor": 2
}
